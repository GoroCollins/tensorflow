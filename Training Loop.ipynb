{
 "cells": [
  {
   "cell_type": "code",
   "execution_count": 1,
   "id": "cf177cf7-2bf8-4dcc-954a-3cec227e5aa7",
   "metadata": {},
   "outputs": [],
   "source": [
    "import tensorflow as tf\n",
    "from matplotlib import pyplot as plt\n",
    "colors = plt.rcParams['axes.prop_cycle'].by_key()['color']"
   ]
  },
  {
   "cell_type": "markdown",
   "id": "876cf581-00aa-46df-b6a8-17ebd0e50e01",
   "metadata": {},
   "source": [
    "## Simple Linear Model"
   ]
  },
  {
   "cell_type": "markdown",
   "id": "0041094b-ba91-4fc9-9bd6-af8423b64b01",
   "metadata": {},
   "source": [
    "f(x) = x * **W** + b  \n",
    "**W** - "
   ]
  },
  {
   "cell_type": "code",
   "execution_count": null,
   "id": "f16128a6-b819-4b63-a1d5-5c2fbd4562a9",
   "metadata": {},
   "outputs": [],
   "source": []
  }
 ],
 "metadata": {
  "kernelspec": {
   "display_name": "Python 3 (ipykernel)",
   "language": "python",
   "name": "python3"
  },
  "language_info": {
   "codemirror_mode": {
    "name": "ipython",
    "version": 3
   },
   "file_extension": ".py",
   "mimetype": "text/x-python",
   "name": "python",
   "nbconvert_exporter": "python",
   "pygments_lexer": "ipython3",
   "version": "3.9.7"
  }
 },
 "nbformat": 4,
 "nbformat_minor": 5
}
